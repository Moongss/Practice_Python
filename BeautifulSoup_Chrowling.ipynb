{
 "cells": [
  {
   "cell_type": "code",
   "execution_count": 2,
   "metadata": {
    "collapsed": true
   },
   "outputs": [],
   "source": [
    "from selenium import webdriver\n",
    "from bs4 import BeautifulSoup"
   ]
  },
  {
   "cell_type": "code",
   "execution_count": 3,
   "metadata": {},
   "outputs": [
    {
     "name": "stderr",
     "output_type": "stream",
     "text": [
      "/anaconda/envs/edr/lib/python3.6/site-packages/selenium/webdriver/phantomjs/webdriver.py:49: UserWarning: Selenium support for PhantomJS has been deprecated, please use headless versions of Chrome or Firefox instead\n",
      "  warnings.warn('Selenium support for PhantomJS has been deprecated, please use headless '\n"
     ]
    },
    {
     "name": "stdout",
     "output_type": "stream",
     "text": [
      "A 은하곱창\n",
      "B 우리소고기\n",
      "C 대도식당 왕십리본점\n",
      "D 육전식당 1호점\n",
      "E 목포산꽃게\n",
      "F 마장동 한우촌\n",
      "G 조개창고\n",
      "H 팜티진쌀국수\n",
      "I 왕십리맛나곱창\n",
      "J 매란방\n",
      "K 남도식당\n",
      "L 본앤브레드\n",
      "M 라온9\n",
      "N 도누리왕십리곱창\n",
      "O 로운 샤브샤브 청량리점\n",
      "P 최영희언양불고기\n",
      "Q 마리스꼬\n",
      "R 정은이네곱창\n",
      "S 애슐리 청량리롯데백화점\n",
      "T 왕십리정부네곱창\n"
     ]
    }
   ],
   "source": [
    "#Re-Chanbobsinse : collect resturants data\n",
    "driver = webdriver.PhantomJS('/Users/min/Downloads/phantomjs-2.1.1-macosx/bin/phantomjs')\n",
    "driver.implicitly_wait(3)\n",
    "\n",
    "driver.get('https://store.naver.com/restaurants/list?query=%EB%A7%9B%EC%A7%91')\n",
    "html = driver.page_source\n",
    "body = BeautifulSoup(html, 'html.parser')\n",
    "notices = body.select('div > div > div.tit > span > a')\n",
    "\n",
    "for n in notices:\n",
    "    print(n.text)\n",
    "#for item in body.find_all(\"div\", {\"class\":\"list_item_inner \"}):\n",
    "#   print(item.find(\"a\",{\"class\":\"name\"},href=True)['href'])"
   ]
  },
  {
   "cell_type": "code",
   "execution_count": null,
   "metadata": {
    "collapsed": true
   },
   "outputs": [],
   "source": [
    "#reference : https://beomi.github.io/2017/02/27/HowToMakeWebCrawler-With-Selenium/"
   ]
  }
 ],
 "metadata": {
  "kernelspec": {
   "display_name": "Python 3",
   "language": "python",
   "name": "python3"
  },
  "language_info": {
   "codemirror_mode": {
    "name": "ipython",
    "version": 3
   },
   "file_extension": ".py",
   "mimetype": "text/x-python",
   "name": "python",
   "nbconvert_exporter": "python",
   "pygments_lexer": "ipython3",
   "version": "3.6.2"
  }
 },
 "nbformat": 4,
 "nbformat_minor": 2
}
