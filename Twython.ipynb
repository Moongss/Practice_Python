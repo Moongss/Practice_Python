{
 "cells": [
  {
   "cell_type": "code",
   "execution_count": 2,
   "metadata": {},
   "outputs": [],
   "source": [
    "from twython import Twython\n",
    "from twython import TwythonStreamer\n",
    "from collections import Counter"
   ]
  },
  {
   "cell_type": "code",
   "execution_count": 11,
   "metadata": {
    "collapsed": true
   },
   "outputs": [],
   "source": [
    "#above information in https://apps.twitter.com\n",
    "#first : Click to \"Create New App\"\n",
    "#second : set to \"App name\", \"description\", \"domain\"\n",
    "#third : admit to \"Terms of Service\"\n",
    "#End ^~^\n",
    "APP_KEY = \"CBOLrRNSrQuF7BxMYPKvIPXGd\"\n",
    "APP_SECRET = \"QsnLigpT0ahBhBmMuyb9dIaSoWdAvcIkHlYQ6PhNkjDXq6tHAN\"\n",
    "OAUTH_TOKEN = \"707171710861049856-phgyNJmix098wf12HSJTeLFS8yUNBvu\"\n",
    "OAUTH_TOKEN_SECRET = \"AWIk063T0SDE9t2GPxiZXVZlgTSKddwi04OYducYFLWTa\""
   ]
  },
  {
   "cell_type": "code",
   "execution_count": 12,
   "metadata": {
    "collapsed": true
   },
   "outputs": [],
   "source": [
    "twitter = Twython(APP_KEY, APP_SECRET)"
   ]
  },
  {
   "cell_type": "code",
   "execution_count": 13,
   "metadata": {},
   "outputs": [
    {
     "name": "stdout",
     "output_type": "stream",
     "text": [
      "MonvalLaure : RT @BigDataFr_: https://t.co/q5T3fWMUIh event : Meetup organised by the Data ScienceTech Institute (DSTI)\n",
      "Thursday March 1st 18h30–21h Data…\n",
      "\n",
      "\n",
      "pravidhiasia : Broadway Infosys Nepal to host Free Data Science with Python Programming https://t.co/bwCyS8Q0GJ https://t.co/coUdtTaFgp\n",
      "\n",
      "\n",
      "analihadi7 : RT @BTSxMVP: You have no experience or background in computer or data science, you’re going to tell us, people who actually study and work…\n",
      "\n",
      "\n",
      "WWCLondon : RT @spimescape: Want to attend an awesome data science &amp; Python oriented conf in London? Apply for @pydatalondon Diversity Scholarships her…\n",
      "\n",
      "\n",
      "hide_fromhikari : RT @ykamit: Data Science Spring School 2018 \n",
      "2018年3月27日（火）- 2018年3月29日（木）\n",
      "京都大学 吉田南キャンパス吉田南総合館 共東11 &amp; メディアセンター 南館\n",
      "https://t.co/YJe8kqdTqj\n",
      "ht…\n",
      "\n",
      "\n",
      "dirkzitt : RT @kdnuggets: Gainers and Losers in Gartner 2018 #MagicQuadrant for #DataScience and #MachineLearning Platforms @knime @alteryx @SASanalyt…\n",
      "\n",
      "\n",
      "crawforc3 : RT @benhamner: Want to get your first data science job? Register now for Kaggle's CareerCon, a free digital conference on March 20-22 https…\n",
      "\n",
      "\n",
      "EntracleTeam : RT @ayooladejo: Aspiring Developer: What is the best language to start a software development career?\n",
      "\n",
      "Me: Python. And this is beyond the f…\n",
      "\n",
      "\n",
      "ViennaDSG : Tomorrow is the Open Data Day 2018, and @Stadt_Wien has organized several events. Come and join… https://t.co/dDloYyXC6y\n",
      "\n",
      "\n",
      "Sakpol_SE : RT @IARPAnews: Attention, forecasters: Full registration for the #IARPAGFChallenge is now open! Read the rules, and register for your chanc…\n",
      "\n",
      "\n",
      "tmj_kor_jobs : If you're looking for work in #Seoul, check out this #job: https://t.co/q0TTRrnQYP #IT #Hiring #CareerArc\n",
      "\n",
      "\n",
      "jobs_Deutsch : mytaxi: Data Science Engineer (m/f) (Not Specified, Berlin, Germany)\n",
      " https://t.co/buSMwnmFyr\n",
      "\n",
      "\n",
      "Sakpol_SE : RT @IARPAnews: Ready to take home your part of a $200k prize purse? Check out the #IARPAGFChallenge prize breakdown, and don't miss your ch…\n",
      "\n",
      "\n",
      "DhananjayAsia : RT @IARPAnews: Attention, forecasters: Full registration for the #IARPAGFChallenge is now open! Read the rules, and register for your chanc…\n",
      "\n",
      "\n",
      "mmngreco : RT @EtsFactory: Una cita: 28 de febrero. Dos retos: Desarrollo y Data Science. Un premio: tres becas en @EtsFactory para los mejores. Y un…\n",
      "\n",
      "\n"
     ]
    }
   ],
   "source": [
    "for status in twitter.search(q = '\"data science\"')[\"statuses\"]:\n",
    "    user = status[\"user\"][\"screen_name\"]\n",
    "    text = status[\"text\"]\n",
    "    print(user, \":\", text)\n",
    "    print(\"\\n\")"
   ]
  },
  {
   "cell_type": "code",
   "execution_count": 14,
   "metadata": {},
   "outputs": [],
   "source": [
    "#Use Streaming API, more collecting data\n",
    "tweets = []\n",
    "class MyStreamer(TwythonStreamer):\n",
    "    def on_success(self, data):\n",
    "        if data['lang'] == 'en':\n",
    "            tweets.append(data)\n",
    "            print(\"receive data : \", len(tweets))\n",
    "        \n",
    "        if len(tweets) >= 50:\n",
    "            self.disconnect()\n",
    "            \n",
    "    def on_error(self, status_code, data):\n",
    "        print(status_code)\n",
    "        \n",
    "        # Want to stop trying to get data because of the error?\n",
    "        # Uncomment the next line!\n",
    "        self.disconnect()"
   ]
  },
  {
   "cell_type": "code",
   "execution_count": 15,
   "metadata": {},
   "outputs": [
    {
     "name": "stdout",
     "output_type": "stream",
     "text": [
      "receive data :  1\n",
      "receive data :  2\n",
      "receive data :  3\n",
      "receive data :  4\n",
      "receive data :  5\n",
      "receive data :  6\n",
      "receive data :  7\n",
      "receive data :  8\n",
      "receive data :  9\n",
      "receive data :  10\n",
      "receive data :  11\n",
      "receive data :  12\n",
      "receive data :  13\n",
      "receive data :  14\n",
      "receive data :  15\n",
      "receive data :  16\n",
      "receive data :  17\n",
      "receive data :  18\n",
      "receive data :  19\n",
      "receive data :  20\n",
      "receive data :  21\n",
      "receive data :  22\n",
      "receive data :  23\n",
      "receive data :  24\n",
      "receive data :  25\n",
      "receive data :  26\n",
      "receive data :  27\n",
      "receive data :  28\n",
      "receive data :  29\n",
      "receive data :  30\n",
      "receive data :  31\n",
      "receive data :  32\n",
      "receive data :  33\n",
      "receive data :  34\n",
      "receive data :  35\n",
      "receive data :  36\n",
      "receive data :  37\n",
      "receive data :  38\n",
      "receive data :  39\n",
      "receive data :  40\n",
      "receive data :  41\n",
      "receive data :  42\n",
      "receive data :  43\n",
      "receive data :  44\n",
      "receive data :  45\n",
      "receive data :  46\n",
      "receive data :  47\n",
      "receive data :  48\n",
      "receive data :  49\n",
      "receive data :  50\n"
     ]
    }
   ],
   "source": [
    "stream = MyStreamer(APP_KEY, APP_SECRET, OAUTH_TOKEN, OAUTH_TOKEN_SECRET)\n",
    "\n",
    "#collect contain keyword 'data'\n",
    "stream.statuses.filter(track='data')\n",
    "#stream.statuses.sample()"
   ]
  },
  {
   "cell_type": "code",
   "execution_count": 17,
   "metadata": {},
   "outputs": [],
   "source": [
    "top_hashtags = Counter(hashtag['text'].lower()\n",
    "                      for tweet in tweets\n",
    "                      for hashtag in tweet[\"entities\"][\"hashtags\"])"
   ]
  },
  {
   "cell_type": "code",
   "execution_count": 18,
   "metadata": {},
   "outputs": [
    {
     "name": "stdout",
     "output_type": "stream",
     "text": [
      "[('productivity', 1), ('iheartawards', 1), ('bestfanarmy', 1), ('btsarmy', 1), ('bigdata', 1), ('hadoop', 1), ('datascience', 1), ('machinelearning', 1), ('analytics', 1), ('sql', 1)]\n"
     ]
    }
   ],
   "source": [
    "print(top_hashtags.most_common(10))"
   ]
  }
 ],
 "metadata": {
  "kernelspec": {
   "display_name": "Python 3",
   "language": "python",
   "name": "python3"
  },
  "language_info": {
   "codemirror_mode": {
    "name": "ipython",
    "version": 3
   },
   "file_extension": ".py",
   "mimetype": "text/x-python",
   "name": "python",
   "nbconvert_exporter": "python",
   "pygments_lexer": "ipython3",
   "version": "3.6.2"
  }
 },
 "nbformat": 4,
 "nbformat_minor": 2
}
